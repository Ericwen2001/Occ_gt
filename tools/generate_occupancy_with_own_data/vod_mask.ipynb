{
 "cells": [
  {
   "cell_type": "code",
   "execution_count": 10,
   "metadata": {},
   "outputs": [
    {
     "data": {
      "text/plain": [
       "array([[-0.00798023,  0.11849694,  0.99292227,  0.964356  ],\n",
       "       [-0.99985405, -0.0159445 , -0.00613307,  0.13801578],\n",
       "       [ 0.0151049 , -0.99282638,  0.11860694, -0.35144845],\n",
       "       [ 0.        ,  0.        ,  0.        ,  1.        ]])"
      ]
     },
     "execution_count": 10,
     "metadata": {},
     "output_type": "execute_result"
    }
   ],
   "source": [
    "from vod.frame import FrameDataLoader\n",
    "from vod.frame import FrameTransformMatrix\n",
    "from vod.configuration import KittiLocations\n",
    "\n",
    "FrameTransformMatrix(FrameDataLoader(kitti_locations = KittiLocations(root_dir='/mnt/data/fangqiang/view_of_delft/'), \n",
    "                                    frame_number='00000')).t_lidar_camera"
   ]
  },
  {
   "cell_type": "code",
   "execution_count": 6,
   "metadata": {},
   "outputs": [
    {
     "data": {
      "text/plain": [
       "array([[1.4954686e+03, 0.0000000e+00, 9.6127246e+02, 0.0000000e+00],\n",
       "       [0.0000000e+00, 1.4954686e+03, 6.2489594e+02, 0.0000000e+00],\n",
       "       [0.0000000e+00, 0.0000000e+00, 1.0000000e+00, 0.0000000e+00]],\n",
       "      dtype=float32)"
      ]
     },
     "execution_count": 6,
     "metadata": {},
     "output_type": "execute_result"
    }
   ],
   "source": [
    "FrameTransformMatrix(FrameDataLoader(kitti_locations = KittiLocations(root_dir='/mnt/data/fangqiang/view_of_delft/'), \n",
    "                                    frame_number='00000')).camera_projection_matrix"
   ]
  },
  {
   "cell_type": "code",
   "execution_count": 7,
   "metadata": {},
   "outputs": [
    {
     "data": {
      "text/plain": [
       "array([[-0.0079802 , -0.99985409,  0.0151049 ,  0.15099999],\n",
       "       [ 0.118497  , -0.0159445 , -0.9928264 , -0.461     ],\n",
       "       [ 0.99292243, -0.0061331 ,  0.1186069 , -0.91500002],\n",
       "       [ 0.        ,  0.        ,  0.        ,  1.        ]])"
      ]
     },
     "execution_count": 7,
     "metadata": {},
     "output_type": "execute_result"
    }
   ],
   "source": [
    "\n",
    "FrameTransformMatrix(FrameDataLoader(kitti_locations = KittiLocations(root_dir='/mnt/data/fangqiang/view_of_delft/'), \n",
    "                                    frame_number='00000')).t_camera_lidar"
   ]
  },
  {
   "cell_type": "code",
   "execution_count": 4,
   "metadata": {},
   "outputs": [
    {
     "data": {
      "text/plain": [
       "array([[-0.00798023,  0.11849694,  0.99292227,  0.964356  ],\n",
       "       [-0.99985405, -0.0159445 , -0.00613307,  0.13801578],\n",
       "       [ 0.0151049 , -0.99282638,  0.11860694, -0.35144845],\n",
       "       [ 0.        ,  0.        ,  0.        ,  1.        ]])"
      ]
     },
     "execution_count": 4,
     "metadata": {},
     "output_type": "execute_result"
    }
   ],
   "source": [
    "\n",
    "FrameTransformMatrix(FrameDataLoader(kitti_locations = KittiLocations(root_dir='/mnt/data/fangqiang/view_of_delft/'), \n",
    "                                    frame_number='00000')).t_lidar_camera"
   ]
  },
  {
   "cell_type": "markdown",
   "metadata": {},
   "source": []
  },
  {
   "cell_type": "code",
   "execution_count": 18,
   "metadata": {},
   "outputs": [
    {
     "data": {
      "text/plain": [
       "0.0"
      ]
     },
     "execution_count": 18,
     "metadata": {},
     "output_type": "execute_result"
    }
   ],
   "source": [
    "\n",
    "math.atan2(0, 1)"
   ]
  },
  {
   "cell_type": "code",
   "execution_count": 31,
   "metadata": {},
   "outputs": [
    {
     "name": "stdout",
     "output_type": "stream",
     "text": [
      "6.60348539150808 -0.3768247904909224\n"
     ]
    },
    {
     "data": {
      "text/plain": [
       "(0, 1, 1)"
      ]
     },
     "execution_count": 31,
     "metadata": {},
     "output_type": "execute_result"
    }
   ],
   "source": [
    "import numpy as np\n",
    "import math\n",
    "# Transformation matrices provided\n",
    "t_lidar_camera = FrameTransformMatrix(FrameDataLoader(kitti_locations = KittiLocations(root_dir='/mnt/data/fangqiang/view_of_delft/'), \n",
    "                                    frame_number='00000')).t_camera_lidar\n",
    "\n",
    "t_lidar_radar = FrameTransformMatrix(FrameDataLoader(kitti_locations = KittiLocations(root_dir='/mnt/data/fangqiang/view_of_delft/'), \n",
    "                                    frame_number='00000')).t_radar_lidar\n",
    "def cartesian_to_spherical_radar(x, y, z):\n",
    "    azimuth = math.degrees(math.atan2(z, x))  # Azimuth in degrees\n",
    "    elevation = math.degrees(math.atan2(y, x))  # Elevation in degrees\n",
    "    return azimuth, elevation\n",
    "def cartesian_to_spherical_cam(x, y, z):\n",
    "    azimuth = math.degrees(math.atan2(y, z))  # Azimuth in degrees\n",
    "    elevation = math.degrees(math.atan2(x, z))  # Elevation in degrees\n",
    "    return azimuth, elevation\n",
    "\n",
    "# Function to transform points using a transformation matrix\n",
    "def transform_points(points, transformation_matrix):\n",
    "    # Adding a column of ones for homogeneous coordinates\n",
    "    homogeneous_points = np.hstack((points, np.ones((points.shape[0], 1))))\n",
    "    transformed_points = np.dot(homogeneous_points, transformation_matrix.T)\n",
    "    return transformed_points[:, :3]  # Exclude the homogeneous coordinate\n",
    "\n",
    "point_cloud = np.array([[100,0,0]])\n",
    "\n",
    "\n",
    "# Function to filter points based on FoV\n",
    "def filter_points_fov_radar(points, horizontal_fov, vertical_fov):\n",
    "    filtered_points = []\n",
    "    for point in points:\n",
    "        tf_point = transform_points(point, t_lidar_radar)\n",
    "        az, el = cartesian_to_spherical_radar(point[0], point[1], point[2])\n",
    "        if -horizontal_fov <= az <= horizontal_fov and -vertical_fov <= el <= vertical_fov:\n",
    "            filtered_points.append(point)\n",
    "    return np.array(filtered_points)\n",
    "\n",
    "def filter_points_fov_camera(points, horizontal_fov, vertical_fov):\n",
    "    filtered_points = []\n",
    "    for point in points:\n",
    "        tf_point = transform_points(point, t_lidar_camera)\n",
    "        az, el = cartesian_to_spherical_cam(tf_point[0], tf_point[1], tf_point[2])\n",
    "        print(az,el)\n",
    "        if -horizontal_fov <= az <= horizontal_fov and -vertical_fov <= el <= vertical_fov:\n",
    "            filtered_points.append(point)\n",
    "    return np.array(filtered_points)\n",
    "\n",
    "\n",
    "# Filter points for camera and radar\n",
    "filtered_points_camera = filter_points_fov_camera(points_camera_frame, 32, 22)\n",
    "filtered_points_radar = filter_points_fov_radar(points_radar_frame, 60, 15)\n",
    "\n",
    "# Combine the results to find points within both FoVs\n",
    "# Points need to be within both the camera and radar FoVs\n",
    "combined_filtered_points = np.array([point for point in filtered_points_camera if point in filtered_points_radar])\n",
    "\n",
    "len(combined_filtered_points), len(filtered_points_camera), len(filtered_points_radar)  # Number of points in each category\n"
   ]
  },
  {
   "cell_type": "code",
   "execution_count": 33,
   "metadata": {},
   "outputs": [
    {
     "data": {
      "text/plain": [
       "array([[97.48993562, -0.64651248,  0.26613417]])"
      ]
     },
     "execution_count": 33,
     "metadata": {},
     "output_type": "execute_result"
    }
   ],
   "source": [
    "filtered_points_radar"
   ]
  },
  {
   "cell_type": "code",
   "execution_count": 32,
   "metadata": {},
   "outputs": [
    {
     "data": {
      "text/plain": [
       "array([[-0.64702005, 11.38869992, 98.37724251]])"
      ]
     },
     "execution_count": 32,
     "metadata": {},
     "output_type": "execute_result"
    }
   ],
   "source": [
    "filtered_points_camera"
   ]
  }
 ],
 "metadata": {
  "kernelspec": {
   "display_name": "surroundocc",
   "language": "python",
   "name": "python3"
  },
  "language_info": {
   "codemirror_mode": {
    "name": "ipython",
    "version": 3
   },
   "file_extension": ".py",
   "mimetype": "text/x-python",
   "name": "python",
   "nbconvert_exporter": "python",
   "pygments_lexer": "ipython3",
   "version": "3.7.0"
  }
 },
 "nbformat": 4,
 "nbformat_minor": 2
}
