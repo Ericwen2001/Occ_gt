{
 "cells": [
  {
   "cell_type": "code",
   "execution_count": 2,
   "metadata": {},
   "outputs": [],
   "source": [
    "import cv2\n",
    "import glob\n",
    "import os\n",
    "for i in ['1','15']:\n",
    "    image_folder = '/mnt/data/DataSet/occ_work_dir/occ_kradar_radar_attn/viz/'+i\n",
    "    video_name = '/mnt/data/DataSet/occ_work_dir/occ_kradar_radar_attn/viz/' +i+'.mp4'\n",
    "\n",
    "    # File pattern to match the images\n",
    "    file_pattern = \"*.png\"\n",
    "\n",
    "    # Video output settings\n",
    "\n",
    "    frame_size = (1080, 960)  # Assuming 1920x1080 resolution for the images\n",
    "    fps = 10  # Frames per second\n",
    "\n",
    "    # Fetching all the image files in order\n",
    "    image_files = sorted(glob.glob(os.path.join(image_folder, file_pattern)))\n",
    "\n",
    "    # Initialize video writer\n",
    "    fourcc = cv2.VideoWriter_fourcc(*'mp4v')\n",
    "    video = cv2.VideoWriter(video_name, fourcc, fps, frame_size)\n",
    "\n",
    "    # Adding images to the video\n",
    "    for image_file in image_files:\n",
    "        img = cv2.imread(image_file)\n",
    "        img_resized = cv2.resize(img, frame_size)\n",
    "        video.write(img_resized)\n",
    "\n",
    "    # Release the video writer\n",
    "    video.release()"
   ]
  },
  {
   "cell_type": "code",
   "execution_count": null,
   "metadata": {},
   "outputs": [],
   "source": []
  },
  {
   "cell_type": "code",
   "execution_count": 2,
   "metadata": {},
   "outputs": [],
   "source": [
    "import cv2\n",
    "import glob\n",
    "import os\n",
    "for i in ['1']:\n",
    "    image_folder = '/mnt/data/DataSet/K-RadarOOC/vis_cube_xyz/15'\n",
    "    video_name = '/mnt/data/DataSet/K-RadarOOC/vis_cube_xyz/15.mp4'\n",
    "\n",
    "    # File pattern to match the images\n",
    "    file_pattern = \"*.png\"\n",
    "\n",
    "    # Video output settings\n",
    "\n",
    "    frame_size = (1500, 1500)  # Assuming 1920x1080 resolution for the images\n",
    "    fps = 10  # Frames per second\n",
    "\n",
    "    # Fetching all the image files in order\n",
    "    image_files = sorted(glob.glob(os.path.join(image_folder, file_pattern)))\n",
    "\n",
    "    # Initialize video writer\n",
    "    fourcc = cv2.VideoWriter_fourcc(*'mp4v')\n",
    "    video = cv2.VideoWriter(video_name, fourcc, fps, frame_size)\n",
    "\n",
    "    # Adding images to the video\n",
    "    for image_file in image_files:\n",
    "        img = cv2.imread(image_file)\n",
    "        img_resized = cv2.resize(img, frame_size)\n",
    "        video.write(img_resized)\n",
    "\n",
    "    # Release the video writer\n",
    "    video.release()"
   ]
  },
  {
   "cell_type": "code",
   "execution_count": 15,
   "metadata": {},
   "outputs": [
    {
     "name": "stdout",
     "output_type": "stream",
     "text": [
      "ffmpeg version 4.3 Copyright (c) 2000-2020 the FFmpeg developers\n",
      "  built with gcc 7.3.0 (crosstool-NG 1.23.0.449-a04d0)\n",
      "  configuration: --prefix=/opt/conda/conda-bld/ffmpeg_1597178665428/_h_env_placehold_placehold_placehold_placehold_placehold_placehold_placehold_placehold_placehold_placehold_placehold_placehold_placehold_placehold_placehold_placehold_placehold_placehold_placehold_placehold_placeh --cc=/opt/conda/conda-bld/ffmpeg_1597178665428/_build_env/bin/x86_64-conda_cos6-linux-gnu-cc --disable-doc --disable-openssl --enable-avresample --enable-gnutls --enable-hardcoded-tables --enable-libfreetype --enable-libopenh264 --enable-pic --enable-pthreads --enable-shared --disable-static --enable-version3 --enable-zlib --enable-libmp3lame\n",
      "  libavutil      56. 51.100 / 56. 51.100\n",
      "  libavcodec     58. 91.100 / 58. 91.100\n",
      "  libavformat    58. 45.100 / 58. 45.100\n",
      "  libavdevice    58. 10.100 / 58. 10.100\n",
      "  libavfilter     7. 85.100 /  7. 85.100\n",
      "  libavresample   4.  0.  0 /  4.  0.  0\n",
      "  libswscale      5.  7.100 /  5.  7.100\n",
      "  libswresample   3.  7.100 /  3.  7.100\n",
      "Input #0, image2, from '/mnt/data/fangqiang/vod_occ_format/val/delft_1/occ_vis_mlab/%09d.png':\n",
      "  Duration: 00:00:54.40, start: 0.000000, bitrate: N/A\n",
      "    Stream #0:0: Video: png, rgb24(pc), 1000x948, 10 fps, 10 tbr, 10 tbn, 10 tbc\n",
      "\u001b[4;31mUnknown encoder 'libx264'\n",
      "\u001b[0m"
     ]
    }
   ],
   "source": [
    "!ffmpeg -framerate 10 -i /mnt/data/fangqiang/vod_occ_format/val/delft_1/occ_vis_mlab/%09d.png -c:v libx264 -pix_fmt yuv420p /mnt/data/fangqiang/vod_occ_format/val/delft_1/delft_1_occ_gt.mp4"
   ]
  },
  {
   "cell_type": "code",
   "execution_count": null,
   "metadata": {},
   "outputs": [],
   "source": [
    "/mnt/data/DataSet/K-Radar/1/radar_zyx_cube"
   ]
  },
  {
   "cell_type": "code",
   "execution_count": 4,
   "metadata": {},
   "outputs": [],
   "source": [
    "import cv2\n",
    "import glob\n",
    "import os\n",
    "for i in [1,15]:\n",
    "    image_folder = '/mnt/data/DataSet/K-Radar/{}/radar_zyx_cube'.format(i)\n",
    "    video_name = '/mnt/data/DataSet/K-Radar/{}/radar.mp4'.format(i)\n",
    "\n",
    "    # File pattern to match the images\n",
    "    file_pattern = \"*.png\"\n",
    "\n",
    "    # Video output settings\n",
    "\n",
    "    frame_size = (1920, 1080)  # Assuming 1920x1080 resolution for the images\n",
    "    fps = 10  # Frames per second\n",
    "\n",
    "    # Fetching all the image files in order\n",
    "    image_files = sorted(glob.glob(os.path.join(image_folder, file_pattern)))\n",
    "\n",
    "    # Initialize video writer\n",
    "    fourcc = cv2.VideoWriter_fourcc(*'mp4v')\n",
    "    video = cv2.VideoWriter(video_name, fourcc, fps, frame_size)\n",
    "\n",
    "    # Adding images to the video\n",
    "    for image_file in image_files:\n",
    "        img = cv2.imread(image_file)\n",
    "        img_resized = cv2.resize(img, frame_size)\n",
    "        video.write(img_resized)\n",
    "\n",
    "    # Release the video writer\n",
    "    video.release()"
   ]
  },
  {
   "cell_type": "code",
   "execution_count": null,
   "metadata": {},
   "outputs": [],
   "source": []
  }
 ],
 "metadata": {
  "kernelspec": {
   "display_name": "pytorch",
   "language": "python",
   "name": "python3"
  },
  "language_info": {
   "codemirror_mode": {
    "name": "ipython",
    "version": 3
   },
   "file_extension": ".py",
   "mimetype": "text/x-python",
   "name": "python",
   "nbconvert_exporter": "python",
   "pygments_lexer": "ipython3",
   "version": "3.7.0"
  }
 },
 "nbformat": 4,
 "nbformat_minor": 2
}
